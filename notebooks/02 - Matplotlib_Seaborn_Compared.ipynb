{
 "cells": [
  {
   "cell_type": "markdown",
   "metadata": {},
   "source": [
    "<img style=\"float: right;\" width=\"120\" src=\"http://neueda.conygre.com/pydata/images/neueda-logo.jpeg\">\n",
    "<br><br><br>"
   ]
  },
  {
   "cell_type": "markdown",
   "metadata": {},
   "source": [
    "# Matplotlib\n",
    "\n",
    "`%matplotlib` inline` is a **magic** command.<br>\n",
    "It means when plotting matplotlib charts, embed them directly into the notebook"
   ]
  },
  {
   "cell_type": "code",
   "execution_count": null,
   "metadata": {},
   "outputs": [],
   "source": [
    "import matplotlib.pyplot as plt\n",
    "%matplotlib inline"
   ]
  },
  {
   "cell_type": "code",
   "execution_count": null,
   "metadata": {},
   "outputs": [],
   "source": [
    "import pandas as pd\n",
    "\n",
    "# Load some data into a DataFrame to demonstrate plotting with\n",
    "df = pd.read_excel(io=\"https://neueda.conygre.com/pydata/plotting_data.xls\", sheet_name='tips', index_col='ID')\n",
    "\n",
    "print(df.shape)\n",
    "df.head()"
   ]
  },
  {
   "cell_type": "markdown",
   "metadata": {},
   "source": [
    "# Pandas Plotting Functions\n",
    "\n",
    "Pandas comes with its own in-built plotting function<br>\n",
    "General format is usually\n",
    "- `DataFrame.plot.PLOT_TYPE` <br>\n",
    "- `Series.plot.PLOT_TYPE`"
   ]
  },
  {
   "cell_type": "markdown",
   "metadata": {},
   "source": [
    "## Histograms"
   ]
  },
  {
   "cell_type": "code",
   "execution_count": null,
   "metadata": {},
   "outputs": [],
   "source": [
    "# a series\n",
    "df['total_bill'].plot.hist()"
   ]
  },
  {
   "cell_type": "code",
   "execution_count": null,
   "metadata": {},
   "outputs": [],
   "source": [
    "# an entire DataFrame\n",
    "df.plot.hist()"
   ]
  },
  {
   "cell_type": "markdown",
   "metadata": {},
   "source": [
    "## Scatterplot"
   ]
  },
  {
   "cell_type": "code",
   "execution_count": null,
   "metadata": {},
   "outputs": [],
   "source": [
    "df.plot.scatter(x='total_bill', y='tip')"
   ]
  },
  {
   "cell_type": "markdown",
   "metadata": {},
   "source": [
    "## Hexbin\n",
    "\n",
    "Use `gridsize` argument where appropriate"
   ]
  },
  {
   "cell_type": "code",
   "execution_count": null,
   "metadata": {},
   "outputs": [],
   "source": [
    "df.plot.hexbin(x='total_bill', y='tip', gridsize=10)"
   ]
  },
  {
   "cell_type": "markdown",
   "metadata": {},
   "source": [
    "## Box plot\n"
   ]
  },
  {
   "cell_type": "code",
   "execution_count": null,
   "metadata": {},
   "outputs": [],
   "source": [
    "df.plot.box()"
   ]
  },
  {
   "cell_type": "markdown",
   "metadata": {},
   "source": [
    "# Examples using matplotlib directly\n"
   ]
  },
  {
   "cell_type": "code",
   "execution_count": null,
   "metadata": {},
   "outputs": [],
   "source": [
    "import matplotlib.pyplot as plt\n",
    "\n",
    "df.head()"
   ]
  },
  {
   "cell_type": "markdown",
   "metadata": {},
   "source": [
    "## Histograms"
   ]
  },
  {
   "cell_type": "code",
   "execution_count": null,
   "metadata": {},
   "outputs": [],
   "source": [
    "x_data = df['total_bill']\n",
    "\n",
    "hist_plot = plt.figure()\n",
    "\n",
    "ax1 = hist_plot.add_subplot(1,1,1)\n",
    "\n",
    "ax1.hist(x = x_data, bins=10)\n",
    "\n",
    "ax1.set_title('Histogram of Total Bill')\n",
    "ax1.set_xlabel('Frequency')\n",
    "ax1.set_ylabel('Total Bill')\n",
    "\n",
    "hist_plot.show()"
   ]
  },
  {
   "cell_type": "markdown",
   "metadata": {},
   "source": [
    "## Scatterplot"
   ]
  },
  {
   "cell_type": "code",
   "execution_count": null,
   "metadata": {},
   "outputs": [],
   "source": [
    "scatter_plot = plt.figure()\n",
    "\n",
    "x_data = df['total_bill']\n",
    "y_data = df['tip']\n",
    "\n",
    "ax1 = scatter_plot.add_subplot(1,1,1)\n",
    "\n",
    "ax1.scatter(x = x_data, y = y_data)\n",
    "ax1.set_title('Scatterplot of Total Bill vs Tips')\n",
    "ax1.set_xlabel('Total Bill')\n",
    "ax1.set_ylabel('Tips')\n",
    "\n",
    "hist_plot.show()"
   ]
  },
  {
   "cell_type": "markdown",
   "metadata": {},
   "source": [
    "## Boxplots\n",
    "\n",
    "Used when a discrete variable is plotted against a continuous variable"
   ]
  },
  {
   "cell_type": "code",
   "execution_count": null,
   "metadata": {},
   "outputs": [],
   "source": [
    "box_plot = plt.figure()\n",
    "\n",
    "female_tips = df[df['sex'] == 'Female']['tip']\n",
    "male_tips = df[df['sex'] == 'Male']['tip']\n",
    "\n",
    "ax1 = box_plot.add_subplot(1,1,1)\n",
    "ax1.boxplot(x = [female_tips, male_tips], labels=['Female', 'Male'])\n",
    "ax1.set_title('Boxplot of Tips by Gender')\n",
    "ax1.set_xlabel('Gender')\n",
    "ax1.set_ylabel('Tips')\n",
    "\n",
    "box_plot.show()"
   ]
  },
  {
   "cell_type": "markdown",
   "metadata": {},
   "source": [
    "# Seaborn"
   ]
  },
  {
   "cell_type": "code",
   "execution_count": null,
   "metadata": {},
   "outputs": [],
   "source": [
    "import seaborn as sns"
   ]
  },
  {
   "cell_type": "markdown",
   "metadata": {},
   "source": [
    "## Histograms"
   ]
  },
  {
   "cell_type": "code",
   "execution_count": null,
   "metadata": {},
   "outputs": [],
   "source": [
    "# this subplots function returns 2 values as a tuple\n",
    "# a figure\n",
    "# a subplot added to the figure\n",
    "\n",
    "# todo"
   ]
  },
  {
   "cell_type": "code",
   "execution_count": null,
   "metadata": {},
   "outputs": [],
   "source": [
    "# Same thing but without the denisty\n",
    "# supply a kde argument and set it to False\n",
    "\n",
    "# todo"
   ]
  },
  {
   "cell_type": "markdown",
   "metadata": {},
   "source": [
    "## Density Pot\n",
    "\n",
    "**Kernel Density Estimation**"
   ]
  },
  {
   "cell_type": "code",
   "execution_count": null,
   "metadata": {},
   "outputs": [],
   "source": [
    "den_plot, ax1 = plt.subplots()\n",
    "\n",
    "ax1 = sns.distplot(a = df['total_bill'], hist=False)\n",
    "ax1.set_title('Total Bill Density')\n",
    "ax1.set_xlabel('Total Bill')\n",
    "ax1.set_ylabel('Unit Probability')\n",
    "\n",
    "plt.show()"
   ]
  },
  {
   "cell_type": "markdown",
   "metadata": {},
   "source": [
    "## Rug Plots\n",
    "\n",
    "- 1 dimensional representation of a variables distribution\n",
    "- usually used with other plots to enhance visualization"
   ]
  },
  {
   "cell_type": "code",
   "execution_count": null,
   "metadata": {},
   "outputs": [],
   "source": [
    "hist_den_rug_plot, ax1 = plt.subplots()\n",
    "\n",
    "ax1 = sns.distplot(a = df['total_bill'], rug=True)\n",
    "ax1.set_title('Total Bill Histogram with Density and Rug Plot')\n",
    "ax1.set_xlabel('Total Bill')\n",
    "\n",
    "plt.show()"
   ]
  },
  {
   "cell_type": "markdown",
   "metadata": {},
   "source": [
    "## Bar Plots"
   ]
  },
  {
   "cell_type": "code",
   "execution_count": null,
   "metadata": {},
   "outputs": [],
   "source": [
    "count_plot, ax1 = plt.subplots()\n",
    "\n",
    "ax1 = sns.countplot(x='day', data=df)\n",
    "ax1.set_title('Count of Days')\n",
    "ax1.set_xlabel('Day of Week')\n",
    "ax1.set_xlabel('Frequency')\n",
    "\n",
    "plt.show()"
   ]
  },
  {
   "cell_type": "markdown",
   "metadata": {},
   "source": [
    "## Scatterplot\n",
    "\n",
    "- No `scatter` function in `seaborn`, use `regplot` instead.\n",
    "- plots a scatterpoot **and** fits a regression line\n",
    "- use `fit_reg=False` to toggle regression line on/off"
   ]
  },
  {
   "cell_type": "code",
   "execution_count": null,
   "metadata": {},
   "outputs": [],
   "source": [
    "# regplot - total bill vs tip"
   ]
  },
  {
   "cell_type": "markdown",
   "metadata": {},
   "source": [
    "Alternative is to use `lmplot`<br>\n",
    "`lmplot` calls `regplot`<br>\n",
    "`lmplot` creates `figures`, `replot` creates axes<br>"
   ]
  },
  {
   "cell_type": "code",
   "execution_count": null,
   "metadata": {},
   "outputs": [],
   "source": [
    "fig = sns.lmplot(x='total_bill', y='tip', data=df)\n",
    "\n",
    "plt.show()"
   ]
  },
  {
   "cell_type": "markdown",
   "metadata": {},
   "source": [
    "Or use `jointplot`<br>\n",
    "`jointplot` creates a scatter that includes a univariate plot on each axis<br>\n",
    "`jointplot` does not return axes, so no need to create a figure<br>\n",
    "`jointplot` creates a `JointGrid` object"
   ]
  },
  {
   "cell_type": "code",
   "execution_count": null,
   "metadata": {},
   "outputs": [],
   "source": [
    "joint_grid = sns.jointplot(x='total_bill', y='tip', data=df)\n",
    "joint_grid.set_axis_labels(xlabel='Total Bill', ylabel='Tip')\n",
    "joint_grid.fig.suptitle(t='Joint Plot of Total Bill and Tip', fontsize=10, y=1.03)"
   ]
  },
  {
   "cell_type": "markdown",
   "metadata": {},
   "source": [
    "# Hexbins\n",
    "\n",
    "- Group points on a scatter plit into larger points.\n",
    "- In the same way that a `histogram` can bin a variable to create a `bar`\n",
    "- `hexbin` can bin variables to create hexagons"
   ]
  },
  {
   "cell_type": "code",
   "execution_count": null,
   "metadata": {},
   "outputs": [],
   "source": [
    "hexbin = sns.jointplot(x=\"total_bill\", y='tip', data=df, kind='hex')\n",
    "hexbin.set_axis_labels(xlabel='Total Bill', ylabel='Tip')\n",
    "hexbin.fig.suptitle(t='Hexbin Joint Plot of Total Bill and Tip', fontsize=10, y=1.03)"
   ]
  },
  {
   "cell_type": "markdown",
   "metadata": {},
   "source": [
    "# 2D Density Plots\n",
    "\n",
    "- similar to `sns.kdeplot`\n",
    "- Create a density plot across a bivariate (2 variables)\n",
    "- Can show just the bivariate\n",
    "- or show the invividual univariates"
   ]
  },
  {
   "cell_type": "code",
   "execution_count": null,
   "metadata": {},
   "outputs": [],
   "source": [
    "# Just the bivariate\n",
    "kde, ax1 = plt.subplots()\n",
    "\n",
    "ax1 = sns.kdeplot(data=df['total_bill'], data2=df['tip'], shade=True) # toggle shade True/False\n",
    "ax1.set_title('Kernek Density Plot of Total Bill & Tip')\n",
    "ax1.set_xlabel(\"Total Bill\")\n",
    "ax1.set_ylabel('Tip')\n",
    "\n",
    "plt.show()"
   ]
  },
  {
   "cell_type": "code",
   "execution_count": null,
   "metadata": {},
   "outputs": [],
   "source": [
    "# Include the univariates\n",
    "kde_joint = sns.jointplot(x='total_bill', y='tip', data=df, kind='kde')"
   ]
  },
  {
   "cell_type": "markdown",
   "metadata": {},
   "source": [
    "# Bar Plots\n",
    "Default is to calculate the `mean`<br>\n",
    "Use the `estimator` parameter to pass in any function<br>"
   ]
  },
  {
   "cell_type": "code",
   "execution_count": null,
   "metadata": {},
   "outputs": [],
   "source": [
    "bar, ax1 = plt.subplots()\n",
    "\n",
    "ax1 = sns.barplot(x='time', y='total_bill', data=df)\n",
    "ax1.set_title('Bar plot of average total bill for time of day')\n",
    "ax1.set_xlabel('Time of day')\n",
    "ax1.set_ylabel('Average total bill')\n",
    "\n",
    "plt.show()"
   ]
  },
  {
   "cell_type": "markdown",
   "metadata": {},
   "source": [
    "## Box Plots\n",
    "\n",
    "- Use to show multiple statistics<br>\n",
    "- e.g. quartiles, max, min, outliers etc"
   ]
  },
  {
   "cell_type": "code",
   "execution_count": null,
   "metadata": {},
   "outputs": [],
   "source": [
    "box, ax1 = plt.subplots()\n",
    "\n",
    "ax1 = sns.boxplot(x='time', y='total_bill', data=df)\n",
    "ax1.set_title('Box plot of total bill by time of day')\n",
    "ax1.set_xlabel('Time of day')\n",
    "ax1.set_ylabel('Total bill')\n",
    "\n",
    "plt.show()"
   ]
  },
  {
   "cell_type": "markdown",
   "metadata": {},
   "source": [
    "## Violin Plot\n",
    "\n",
    "Include the distribution of the data"
   ]
  },
  {
   "cell_type": "code",
   "execution_count": null,
   "metadata": {},
   "outputs": [],
   "source": [
    "# todo: time vs total bill"
   ]
  },
  {
   "cell_type": "markdown",
   "metadata": {},
   "source": [
    "## Pairwise Plots\n",
    "\n",
    "- `pairplot` visualizes **ALL** pairwise relationships \n",
    "- Creates lots of redundant information\n",
    "- Use `PairGrid` and manually assign plots for the top hald and bottom half"
   ]
  },
  {
   "cell_type": "code",
   "execution_count": null,
   "metadata": {},
   "outputs": [],
   "source": [
    "pair_grid = sns.PairGrid(data = df)\n",
    "\n",
    "pair_grid = pair_grid.map_upper(sns.regplot) # or use plt.scatter\n",
    "pair_grid = pair_grid.map_lower(sns.kdeplot)\n",
    "pair_grid = pair_grid.map_diag(sns.distplot, rug=True)\n",
    "\n",
    "plt.show()"
   ]
  }
 ],
 "metadata": {
  "kernelspec": {
   "display_name": "Python 3 (ipykernel)",
   "language": "python",
   "name": "python3"
  },
  "language_info": {
   "codemirror_mode": {
    "name": "ipython",
    "version": 3
   },
   "file_extension": ".py",
   "mimetype": "text/x-python",
   "name": "python",
   "nbconvert_exporter": "python",
   "pygments_lexer": "ipython3",
   "version": "3.9.12"
  }
 },
 "nbformat": 4,
 "nbformat_minor": 4
}
