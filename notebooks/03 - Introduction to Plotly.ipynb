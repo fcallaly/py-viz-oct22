{
 "cells": [
  {
   "cell_type": "markdown",
   "metadata": {
    "slideshow": {
     "slide_type": "slide"
    }
   },
   "source": [
    "<img style=\"float: right;\" width=\"120\" src=\"http://neueda.conygre.com/pydata/images/neueda-logo.jpeg\">\n",
    "<br><br><br>\n"
   ]
  },
  {
   "cell_type": "markdown",
   "metadata": {
    "slideshow": {
     "slide_type": "fragment"
    }
   },
   "source": [
    "# Synopsis\n",
    "\n",
    "Plotly's Python graphing library makes interactive, publication-quality graphs online.\n",
    "\n",
    "1) Tables\n",
    "\n",
    "2) Line Plots\n",
    "\n",
    "3) Bar Charts\n",
    "\n",
    "4) Timeseries"
   ]
  },
  {
   "cell_type": "markdown",
   "metadata": {
    "slideshow": {
     "slide_type": "fragment"
    }
   },
   "source": [
    "# Import the plotly packages\n"
   ]
  },
  {
   "cell_type": "code",
   "execution_count": null,
   "metadata": {
    "slideshow": {
     "slide_type": "fragment"
    }
   },
   "outputs": [],
   "source": [
    "# todo: import plotly graph objs"
   ]
  },
  {
   "cell_type": "markdown",
   "metadata": {
    "slideshow": {
     "slide_type": "fragment"
    }
   },
   "source": [
    "# First plot"
   ]
  },
  {
   "cell_type": "markdown",
   "metadata": {
    "slideshow": {
     "slide_type": "slide"
    }
   },
   "source": [
    "## Using Figure"
   ]
  },
  {
   "cell_type": "code",
   "execution_count": null,
   "metadata": {
    "slideshow": {
     "slide_type": "fragment"
    }
   },
   "outputs": [],
   "source": [
    "# todo: create a figure and add some demo data"
   ]
  },
  {
   "cell_type": "markdown",
   "metadata": {
    "slideshow": {
     "slide_type": "slide"
    }
   },
   "source": [
    "## Using FigureWidget"
   ]
  },
  {
   "cell_type": "code",
   "execution_count": null,
   "metadata": {
    "slideshow": {
     "slide_type": "fragment"
    }
   },
   "outputs": [],
   "source": [
    "# todo: create a figure widget and add the same data"
   ]
  },
  {
   "cell_type": "markdown",
   "metadata": {
    "slideshow": {
     "slide_type": "slide"
    }
   },
   "source": [
    "# Tables"
   ]
  },
  {
   "cell_type": "markdown",
   "metadata": {
    "slideshow": {
     "slide_type": "fragment"
    }
   },
   "source": [
    "## Load in some data\n",
    "\n",
    "Create a small table, in this case SP500 grouped by Sector and all columns aggregated on the mean"
   ]
  },
  {
   "cell_type": "code",
   "execution_count": null,
   "metadata": {
    "slideshow": {
     "slide_type": "fragment"
    }
   },
   "outputs": [],
   "source": [
    "import pandas as pd\n",
    "\n",
    "df_raw = pd.read_excel(io='https://neueda.conygre.com/pydata/sample_data.xls', sheet_name='SP500', index_col='Symbol')\n",
    "df = df_raw.groupby(by='Sector').mean()\n",
    "\n",
    "df"
   ]
  },
  {
   "cell_type": "markdown",
   "metadata": {
    "slideshow": {
     "slide_type": "slide"
    }
   },
   "source": [
    "## First Table"
   ]
  },
  {
   "cell_type": "code",
   "execution_count": null,
   "metadata": {
    "slideshow": {
     "slide_type": "fragment"
    }
   },
   "outputs": [],
   "source": [
    "col_names = list(df.columns)\n",
    "header_data = dict(values = col_names)\n",
    "\n",
    "data = [df['Price'], df['Price/Earnings'], df['Earnings/Share'], df['52 Week High'], df['52 Week Low']]\n",
    "cell_data   = dict(values = data)\n",
    "\n",
    "tbl = go.Table(header = header_data, cells = cell_data)\n",
    "\n",
    "fig = go.Figure(data = tbl)\n",
    "\n",
    "fig.show()"
   ]
  },
  {
   "cell_type": "markdown",
   "metadata": {
    "slideshow": {
     "slide_type": "slide"
    }
   },
   "source": [
    "## Add Some Style"
   ]
  },
  {
   "cell_type": "code",
   "execution_count": null,
   "metadata": {
    "slideshow": {
     "slide_type": "fragment"
    }
   },
   "outputs": [],
   "source": [
    "col_names = list(df.columns)\n",
    "header_data = dict(values = col_names,\n",
    "                   fill_color='paleturquoise',\n",
    "                   align = 'left')\n",
    "\n",
    "data = [df['Price'], df['Price/Earnings'], df['Earnings/Share'], df['52 Week High'], df['52 Week Low']]\n",
    "cell_data  = dict(values = data, \n",
    "                  fill_color = 'lavender',\n",
    "                  align = 'left')\n",
    "    \n",
    "tbl = go.Table(header = header_data, cells = cell_data)\n",
    "\n",
    "fig = go.Figure(data = tbl)\n",
    "fig.update_layout(width=800, height=400)\n",
    "fig.show()"
   ]
  },
  {
   "cell_type": "markdown",
   "metadata": {
    "slideshow": {
     "slide_type": "slide"
    }
   },
   "source": [
    "## Add some formatting"
   ]
  },
  {
   "cell_type": "code",
   "execution_count": null,
   "metadata": {
    "scrolled": true,
    "slideshow": {
     "slide_type": "fragment"
    }
   },
   "outputs": [],
   "source": [
    "col_names = list(df.columns)\n",
    "col_names.insert(0,'Sector')\n",
    "header_data = dict(values = col_names,\n",
    "                   fill_color='paleturquoise',\n",
    "                   align=['left','center'],\n",
    "                   font=dict(color='white', size=14),\n",
    "                   height=40)\n",
    "\n",
    "data = [df['Price'], df['Price/Earnings'], df['Earnings/Share'], df['52 Week High'], df['52 Week Low']]\n",
    "data.insert(0, list(df.index))\n",
    "cell_data  = dict(values = data, \n",
    "                  fill_color = 'lavender',\n",
    "                  align=['left', 'center'],\n",
    "                  font_size=12,\n",
    "                  format = [None,\",.2f\"],\n",
    "                  height=30)\n",
    "    \n",
    "tbl = go.Table(header = header_data, cells = cell_data)\n",
    "\n",
    "fig = go.Figure(data = tbl)\n",
    "fig.update_layout(width=800, height=400)\n",
    "fig.show()"
   ]
  },
  {
   "cell_type": "markdown",
   "metadata": {
    "slideshow": {
     "slide_type": "slide"
    }
   },
   "source": [
    "## Alternate Row Colours"
   ]
  },
  {
   "cell_type": "code",
   "execution_count": null,
   "metadata": {
    "slideshow": {
     "slide_type": "fragment"
    }
   },
   "outputs": [],
   "source": [
    "headerColor = 'grey'\n",
    "rowEvenColor = 'lightgrey'\n",
    "rowOddColor = 'white'\n",
    "\n",
    "col_names = list(df.columns)\n",
    "col_names.insert(0,'Sector')\n",
    "header_vals = dict(values = col_names,\n",
    "                   line_color='darkslategray',\n",
    "                   fill_color=headerColor,\n",
    "                   align=['left','center'],\n",
    "                   font=dict(color='white', size=14),\n",
    "                   height=40)\n",
    "\n",
    "data = [df['Price'], df['Price/Earnings'], df['Earnings/Share'], df['52 Week High'], df['52 Week Low']]\n",
    "data.insert(0, list(df.index))\n",
    "fill_colours = [ [rowEvenColor if df.index.get_loc(i)%2==0 else rowOddColor for i in df.index] * len(df.columns) ]\n",
    "cell_vals  = dict(values = data, \n",
    "                  fill_color = fill_colours,\n",
    "                  align=['left', 'center'],\n",
    "                  font_size=12,\n",
    "                  format = [None,\",.2f\"],\n",
    "                  height=30)\n",
    "    \n",
    "tbl = go.Table(header = header_vals, cells = cell_vals)\n",
    "\n",
    "fig = go.Figure(data = tbl)\n",
    "fig.update_layout(width=800, height=600)\n",
    "fig.show()"
   ]
  },
  {
   "cell_type": "code",
   "execution_count": null,
   "metadata": {},
   "outputs": [],
   "source": [
    "# You could save the output\n",
    "#!pip install kaleido\n",
    "#fig.write_image(\"plotly-fig1.png\")"
   ]
  },
  {
   "cell_type": "markdown",
   "metadata": {},
   "source": [
    "# Line Plots\n",
    "\n",
    "Use `go.Scatter()` with a `mode` of `lines` (or some variation)\n",
    "\n",
    "Create traces\n",
    ">x = x axis<BR>\n",
    ">y = y axis<BR>\n",
    ">mode = type of plot like marker, line or line + markers<BR>\n",
    ">name = name of the plots<BR>\n",
    ">marker = marker is used with dictionary<BR>\n",
    " - color = color of lines. It takes RGB (red, green, blue) and opacity (alpha)<BR>\n",
    ">text = The hover text (hover is curser)<BR>\n",
    "    \n",
    "data<BR>\n",
    ">a list of traces<BR>\n",
    "\n",
    "layout = a dictionary of properties\n",
    ">title = title of layout<BR>\n",
    ">x axis = it is dictionary<BR>\n",
    "-title = label of x axis<BR>\n",
    "-ticklen = length of x axis ticks<BR>\n",
    "-zeroline = showing zero line or not<BR>\n",
    "\n",
    "fig<BR>\n",
    ">data and layout\n",
    "\n"
   ]
  },
  {
   "cell_type": "code",
   "execution_count": null,
   "metadata": {},
   "outputs": [],
   "source": [
    "# import graph objects as \"go\"\n",
    "import plotly.graph_objs as go\n",
    "\n",
    "# Trace 1\n",
    "trace1 = go.Scatter(\n",
    "                    x = list(df.index),\n",
    "                    y = df['Price/Earnings'],\n",
    "                    mode = \"lines\",\n",
    "                    name = \"P/E\",\n",
    "                    marker = dict(color = 'rgba(16, 112, 2, 0.8)')\n",
    "                    )\n",
    "# Trace 2\n",
    "trace2 = go.Scatter(\n",
    "                    x = list(df.index),\n",
    "                    y = df['Earnings/Share'],\n",
    "                    mode = \"lines+markers\",\n",
    "                    name = \"E/S\",\n",
    "                    marker = dict(color = 'rgba(80, 26, 80, 0.8)'),\n",
    "                    )\n",
    "data = [trace1, trace2]\n",
    "layout = dict(title = 'Mean Price Earnings and Mean Earnings / Sector for SP500',\n",
    "              xaxis= dict(title= 'Sector',ticklen= 5,zeroline= False)\n",
    "             )\n",
    "fig_data = dict(data = data, layout = layout)\n",
    "fig = go.Figure(data = fig_data )\n",
    "\n",
    "fig.show()"
   ]
  },
  {
   "cell_type": "markdown",
   "metadata": {},
   "source": [
    "# Bar Charts\n",
    "\n",
    "\n",
    "Creating traces\n",
    ">x = x axis<BR>\n",
    ">y = y axis<BR>\n",
    ">mode = type of plot like marker, line or line + markers<BR>\n",
    ">name = name of the plots<BR>\n",
    ">marker = marker is used with dictionary<BR>\n",
    "- color = color of lines. It takes RGB (red, green, blue) and opacity (alpha)\n",
    "- line = It is dictionary. line between bars\n",
    "- color = line color around bars\n",
    ">text = The hover text (hover is curser)<BR>\n",
    "\n",
    "data<BR>\n",
    ">a list of traces<BR>\n",
    "\n",
    "layout = a dictionary of properties\n",
    ">barmode = bar mode of bars like grouped\n"
   ]
  },
  {
   "cell_type": "code",
   "execution_count": null,
   "metadata": {},
   "outputs": [],
   "source": [
    "# Trace 1\n",
    "trace1 = go.Bar(\n",
    "                x = list(df.index),\n",
    "                y = df['52 Week High'],\n",
    "                name='52 Week High',\n",
    "                marker = dict(color = 'rgba(255, 174, 255, 0.5)',\n",
    "                              line=dict(color='rgb(0,0,0)',width=1.5))\n",
    "                )\n",
    "# Trace 2\n",
    "trace2 = go.Bar(\n",
    "                x = list(df.index),\n",
    "                y = df['52 Week Low'],\n",
    "                name='52 Week Low',\n",
    "                marker = dict(color = 'rgba(255, 255, 128, 0.5)',\n",
    "                              line=dict(color='rgb(0,0,0)',width=1.5))\n",
    "                )\n",
    "\n",
    "data = [trace1, trace2]\n",
    "layout = go.Layout(barmode = \"group\",\n",
    "                   title = 'Mean 52 Wk High & 52 WQk Low / Sector for SP500')\n",
    "fig = go.Figure(data = data, layout = layout)\n",
    "\n",
    "fig.show()"
   ]
  },
  {
   "cell_type": "code",
   "execution_count": null,
   "metadata": {},
   "outputs": [],
   "source": [
    "df"
   ]
  },
  {
   "cell_type": "markdown",
   "metadata": {},
   "source": [
    "# Time Series"
   ]
  },
  {
   "cell_type": "code",
   "execution_count": null,
   "metadata": {},
   "outputs": [],
   "source": [
    "df = pd.read_excel(io='https://neueda.conygre.com/pydata/market_data.xls', sheet_name='AAPL', index_col='Date', parse_dates=True)"
   ]
  },
  {
   "cell_type": "markdown",
   "metadata": {},
   "source": [
    "## Using plotly Express"
   ]
  },
  {
   "cell_type": "code",
   "execution_count": null,
   "metadata": {},
   "outputs": [],
   "source": [
    "import plotly.express as px\n",
    "\n",
    "fig = px.line(df, x=df.index, y='High')\n",
    "\n",
    "fig.show()"
   ]
  },
  {
   "cell_type": "markdown",
   "metadata": {},
   "source": [
    "## Using Graph Objects"
   ]
  },
  {
   "cell_type": "code",
   "execution_count": null,
   "metadata": {},
   "outputs": [],
   "source": [
    "trace = go.Scatter(x=df.index, y=df['High'])\n",
    "\n",
    "data = [trace]\n",
    "\n",
    "fig = go.Figure(data = data)\n",
    "\n",
    "fig.show()"
   ]
  },
  {
   "cell_type": "markdown",
   "metadata": {},
   "source": [
    "## Custom Date Range"
   ]
  },
  {
   "cell_type": "code",
   "execution_count": null,
   "metadata": {},
   "outputs": [],
   "source": [
    "from datetime import datetime\n",
    "\n",
    "x = [datetime(year=2013, month=10, day=4),\n",
    "     datetime(year=2013, month=11, day=5),\n",
    "     datetime(year=2013, month=12, day=6)]\n",
    "\n",
    "\n",
    "trace = go.Scatter(x=x, y=[1, 3, 6])\n",
    "\n",
    "data = [trace]\n",
    "\n",
    "fig = go.Figure(data=data)\n",
    "\n",
    "# Use datetime objects to set xaxis range\n",
    "fig.update_layout(xaxis_range=[x[0],x[2]])\n",
    "fig.show()"
   ]
  },
  {
   "cell_type": "code",
   "execution_count": null,
   "metadata": {},
   "outputs": [],
   "source": [
    "trace1 = go.Scatter(x=df['2016'].index,\n",
    "                    y=df['2016']['High'],\n",
    "                    name=\"High\",\n",
    "                    line_color='deepskyblue',\n",
    "                    opacity=0.8)\n",
    "\n",
    "trace2 = go.Scatter(x=df['2016'].index,\n",
    "                    y=df['2016']['Low'],\n",
    "                    name=\"Low\",\n",
    "                    line_color='dimgray',\n",
    "                    opacity=0.8)\n",
    "\n",
    "\n",
    "data = [trace1, trace2]\n",
    "\n",
    "fig = go.Figure(data=data)\n",
    "\n",
    "# Use date string to set xaxis range\n",
    "fig.update_layout(xaxis_range=['2016-07-01','2016-12-31'],\n",
    "                  title_text=\"Manually Set Date Range\")\n",
    "fig.show()"
   ]
  },
  {
   "cell_type": "markdown",
   "metadata": {},
   "source": [
    "## Time Series With Rangeslider"
   ]
  },
  {
   "cell_type": "code",
   "execution_count": null,
   "metadata": {},
   "outputs": [],
   "source": [
    "trace1 = go.Scatter(x=df.index, y=df['High'], name=\"High\", line_color='deepskyblue')\n",
    "\n",
    "trace2 = go.Scatter(x=df.index, y=df['Low'], name=\"Low\", line_color='dimgray')\n",
    "\n",
    "data= [trace1, trace2]\n",
    "\n",
    "fig = go.Figure(data=data)\n",
    "\n",
    "fig.update_layout(title_text='Time Series with Rangeslider',\n",
    "                  xaxis_rangeslider_visible=True)\n",
    "fig.show()"
   ]
  }
 ],
 "metadata": {
  "kernelspec": {
   "display_name": "Python 3 (ipykernel)",
   "language": "python",
   "name": "python3"
  },
  "language_info": {
   "codemirror_mode": {
    "name": "ipython",
    "version": 3
   },
   "file_extension": ".py",
   "mimetype": "text/x-python",
   "name": "python",
   "nbconvert_exporter": "python",
   "pygments_lexer": "ipython3",
   "version": "3.9.12"
  }
 },
 "nbformat": 4,
 "nbformat_minor": 4
}
