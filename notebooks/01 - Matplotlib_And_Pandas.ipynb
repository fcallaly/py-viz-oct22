{
 "cells": [
  {
   "cell_type": "markdown",
   "metadata": {},
   "source": [
    "<img style=\"float: right;\" width=\"120\" src=\"https://s3.eu-west-1.amazonaws.com/neueda.conygre.com/pydata/images/neueda-logo.jpeg\">\n",
    "<br><br><br>"
   ]
  },
  {
   "cell_type": "markdown",
   "metadata": {},
   "source": [
    "# Synopsis\n",
    "\n",
    "With Python there are a number of options for plotting available, including:\n",
    "- using pandas built-in functions\n",
    "- using matplotlib functions directly\n",
    "- using other libraries e.g. seaborn, plotly"
   ]
  },
  {
   "cell_type": "markdown",
   "metadata": {},
   "source": [
    "# Matplotlib\n",
    "\n",
    "`%matplotlib inline` is a **magic** command.<br>\n",
    "It means when plotting matplotlib charts, embed them directly into the notebook"
   ]
  },
  {
   "cell_type": "markdown",
   "metadata": {},
   "source": [
    "### Load libraries and import data"
   ]
  },
  {
   "cell_type": "code",
   "execution_count": 1,
   "metadata": {},
   "outputs": [],
   "source": [
    "# load pandas\n",
    "import pandas as pd\n",
    "\n",
    "# include %matplotlib inline\n",
    "%matplotlib inline\n",
    "\n",
    "# Create a DataFrame called df_premiums from Insurance Premiums.csv\n",
    "import pandas as pd\n",
    "df_premiums = pd.read_csv('https://s3.eu-west-1.amazonaws.com/neueda.conygre.com/pydata/Insurance_Premiums.csv', index_col='Date', parse_dates=True)"
   ]
  },
  {
   "cell_type": "markdown",
   "metadata": {},
   "source": [
    "### A quick plot of two columns, this uses matplotlib through pandas"
   ]
  },
  {
   "cell_type": "code",
   "execution_count": 2,
   "metadata": {
    "tags": []
   },
   "outputs": [],
   "source": [
    "# line plot of 'USD (AM)' and 'GBP (AM)' columns\n"
   ]
  },
  {
   "cell_type": "markdown",
   "metadata": {},
   "source": [
    "### Be more specific, plot a single column in red, add a title"
   ]
  },
  {
   "cell_type": "code",
   "execution_count": 3,
   "metadata": {
    "tags": []
   },
   "outputs": [],
   "source": [
    "# some extra parameters - USD (AM) line, color and title\n"
   ]
  },
  {
   "cell_type": "markdown",
   "metadata": {},
   "source": [
    "### For more fine-grained control we can call matplotlib directly"
   ]
  },
  {
   "cell_type": "code",
   "execution_count": 4,
   "metadata": {
    "tags": []
   },
   "outputs": [],
   "source": [
    "# create same plot as above, but this time directly through matplotlib\n"
   ]
  },
  {
   "cell_type": "markdown",
   "metadata": {},
   "source": [
    "# Anatomy of a figure\n",
    "\n",
    "\n",
    "<img style=\"float: left; margin-top: 0\" width=\"300\" src=\"https://neueda.conygre.com/pydata/images/subplot.png\">\n",
    "<img style=\"float: centre; margin-top: 0\" width=\"300\" src=\"https://neueda.conygre.com/pydata/images/figure.webp\">\n",
    "<br>\n",
    "\n",
    "\n",
    "**NOTE** \n",
    "- difference between `axes` and `axis`\n",
    "- both pronounced the same\n",
    "- one is singlular, one is plural\n",
    "- both refer to different parts of a figure\n",
    "- axes contains mulitple axis\n",
    "- here axes contains and x-axis and a y-axis"
   ]
  },
  {
   "cell_type": "markdown",
   "metadata": {},
   "source": [
    "### Change style and plot multiple axes on a single figure\n",
    "\n",
    "See styles at <a href=\"https://matplotlib.org/3.1.1/gallery/style_sheets/style_sheets_reference.html\">matplotlib styles</a>"
   ]
  },
  {
   "cell_type": "code",
   "execution_count": 5,
   "metadata": {},
   "outputs": [],
   "source": [
    "plt.style.use('bmh')\n",
    "\n",
    "fig = plt.figure(figsize=(14, 6))\n",
    "\n",
    "# left, bottom, width, height\n",
    "axes1 = fig.add_axes([0.1, 0.1, 0.8, 0.8])\n",
    "axes2 = fig.add_axes([0.18, 0.6, 0.3, 0.3])\n",
    "\n",
    "x = df_premiums.index.date\n",
    "y1 = df_premiums['GBP (AM)']\n",
    "\n",
    "axes1.plot(x, y1, 'g')\n",
    "axes2.plot(df_premiums['GBP (AM)']['Aug 2008'], 'b')\n",
    "\n",
    "plt.xticks(rotation=45)\n",
    "\n",
    "plt.show()"
   ]
  },
  {
   "cell_type": "code",
   "execution_count": 6,
   "metadata": {
    "tags": []
   },
   "outputs": [],
   "source": [
    "# save this figure\n"
   ]
  },
  {
   "cell_type": "markdown",
   "metadata": {},
   "source": [
    "### Plot a histogram through pandas (uses matplotlib under the hood)"
   ]
  },
  {
   "cell_type": "code",
   "execution_count": 7,
   "metadata": {
    "tags": []
   },
   "outputs": [],
   "source": [
    "# 'USD (AM)' as a histogram?\n"
   ]
  },
  {
   "cell_type": "markdown",
   "metadata": {},
   "source": [
    "### An area chart for 3 columns"
   ]
  },
  {
   "cell_type": "code",
   "execution_count": 8,
   "metadata": {},
   "outputs": [],
   "source": [
    "my_plot = df_premiums[ ['USD (PM)', 'EURO (PM)', 'GBP (PM)'] ].plot.area(alpha=0.4)"
   ]
  },
  {
   "cell_type": "markdown",
   "metadata": {},
   "source": [
    "### We can save plots to file"
   ]
  },
  {
   "cell_type": "code",
   "execution_count": 9,
   "metadata": {
    "tags": []
   },
   "outputs": [],
   "source": [
    "# save to file\n"
   ]
  },
  {
   "cell_type": "markdown",
   "metadata": {},
   "source": [
    "### Stacked Bar Chart"
   ]
  },
  {
   "cell_type": "code",
   "execution_count": 10,
   "metadata": {},
   "outputs": [],
   "source": [
    "df_premiums[ ['USD (PM)', 'EURO (PM)', 'GBP (PM)'] ].resample(rule='Y').mean().plot.bar(stacked=True)"
   ]
  },
  {
   "cell_type": "markdown",
   "metadata": {},
   "source": [
    "### Histograms"
   ]
  },
  {
   "cell_type": "code",
   "execution_count": 11,
   "metadata": {},
   "outputs": [],
   "source": [
    "plt.style.use('bmh')\n",
    "df_premiums['USD (PM)'].plot.hist(bins=50)"
   ]
  },
  {
   "cell_type": "markdown",
   "metadata": {},
   "source": [
    "### Scatter Plots"
   ]
  },
  {
   "cell_type": "code",
   "execution_count": 12,
   "metadata": {},
   "outputs": [],
   "source": [
    "df_premiums.plot.scatter(x='USD (PM)', y='EURO (PM)')"
   ]
  },
  {
   "cell_type": "markdown",
   "metadata": {},
   "source": [
    "You can use c to color based off another column value\n",
    "Use cmap to indicate colormap to use. \n",
    "For all the colormaps, check out: http://matplotlib.org/users/colormaps.html"
   ]
  },
  {
   "cell_type": "code",
   "execution_count": 13,
   "metadata": {},
   "outputs": [],
   "source": [
    "df_premiums.plot.scatter(x='USD (PM)', y='EURO (PM)', c='USD (PM)', cmap='hot')"
   ]
  },
  {
   "cell_type": "markdown",
   "metadata": {},
   "source": [
    "### BoxPlots"
   ]
  },
  {
   "cell_type": "code",
   "execution_count": 14,
   "metadata": {},
   "outputs": [],
   "source": [
    "df_premiums['2017-MAY'].plot.box() # Can also pass a \"by=...\" argument for groupby"
   ]
  },
  {
   "cell_type": "markdown",
   "metadata": {},
   "source": [
    "### Hexagonal Bin Plot\n",
    "\n",
    "Useful for Bivariate Data, alternative to scatterplot:"
   ]
  },
  {
   "cell_type": "code",
   "execution_count": 15,
   "metadata": {},
   "outputs": [],
   "source": [
    "df_premiums.plot.hexbin(x='USD (PM)', y='EURO (PM)', gridsize=25, cmap='Oranges')"
   ]
  },
  {
   "cell_type": "markdown",
   "metadata": {},
   "source": [
    "### Kernel Density Estimation plot (KDE)"
   ]
  },
  {
   "cell_type": "code",
   "execution_count": 16,
   "metadata": {
    "scrolled": true
   },
   "outputs": [],
   "source": [
    "df_premiums[ ['USD (PM)', 'EURO (PM)', 'GBP (PM)'] ].plot.density()"
   ]
  },
  {
   "cell_type": "markdown",
   "metadata": {},
   "source": [
    "### Styling the display of a DataFrame can also be a very useful visualisation tool"
   ]
  },
  {
   "cell_type": "code",
   "execution_count": 17,
   "metadata": {
    "tags": []
   },
   "outputs": [],
   "source": [
    "# highlight max and min in df_premiums.head()\n"
   ]
  },
  {
   "cell_type": "code",
   "execution_count": 18,
   "metadata": {
    "tags": []
   },
   "outputs": [],
   "source": [
    "# set a background gradient\n"
   ]
  }
 ],
 "metadata": {
  "kernelspec": {
   "display_name": "Python 3 (ipykernel)",
   "language": "python",
   "name": "python3"
  },
  "language_info": {
   "codemirror_mode": {
    "name": "ipython",
    "version": 3
   },
   "file_extension": ".py",
   "mimetype": "text/x-python",
   "name": "python",
   "nbconvert_exporter": "python",
   "pygments_lexer": "ipython3",
   "version": "3.9.12"
  }
 },
 "nbformat": 4,
 "nbformat_minor": 4
}
