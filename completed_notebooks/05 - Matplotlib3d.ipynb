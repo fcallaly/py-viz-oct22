{
    "cells": [
        {
            "cell_type": "code",
            "execution_count": 1,
            "metadata": {},
            "outputs": [],
            "source": [
                "import pandas as pd\n",
                "import numpy as np\n",
                "import matplotlib.pyplot as plt\n",
                "%matplotlib inline"
            ]
        },
        {
            "cell_type": "markdown",
            "metadata": {},
            "source": [
                "### Example 3d using matplotlib bar3d"
            ]
        },
        {
            "cell_type": "code",
            "execution_count": 2,
            "metadata": {},
            "outputs": [],
            "source": [
                "# setup the figure and axes\n",
                "fig = plt.figure(figsize=(12, 6))\n",
                "ax1 = fig.add_subplot(111, projection='3d')\n",
                "\n",
                "# fake data\n",
                "_x = np.arange(4)\n",
                "_y = np.arange(5)\n",
                "_xx, _yy = np.meshgrid(_x, _y)\n",
                "x, y = _xx.ravel(), _yy.ravel()\n",
                "\n",
                "top = x + y\n",
                "bottom = np.zeros_like(top)\n",
                "width = depth = 1\n",
                "\n",
                "ax1.bar3d(x, y, bottom, width, depth, top, shade=True)\n",
                "ax1.set_title('Shaded 3d')\n",
                "\n",
                "plt.show()"
            ]
        },
        {
            "cell_type": "markdown",
            "metadata": {},
            "source": [
                "### Import some data into a dataframe"
            ]
        },
        {
            "cell_type": "code",
            "execution_count": 3,
            "metadata": {},
            "outputs": [],
            "source": [
                "import pandas as pd\n",
                "df = pd.read_excel('https://s3.eu-west-1.amazonaws.com/neueda.conygre.com/pydata/Power_prices.xlsx', sheet_name=\"Power prices\",\n",
                "                 skiprows=3, index_col='Name', parse_dates=True)\n",
                "\n",
                "df.index.rename('Date', inplace=True)\n",
                "print(df.shape)\n",
                "df.head()"
            ]
        },
        {
            "cell_type": "markdown",
            "metadata": {},
            "source": [
                "### Cut the DataFrame down to a smaller size"
            ]
        },
        {
            "cell_type": "code",
            "execution_count": 4,
            "metadata": {},
            "outputs": [],
            "source": [
                "df_plot = df[ ['US Baseload Electricity 22', 'US Baseload Electricity 23', 'US Baseload Electricity 24'] ].resample('Y').mean()\n",
                "\n",
                "df_plot"
            ]
        },
        {
            "cell_type": "markdown",
            "metadata": {},
            "source": [
                "### Organise the data for bar3d "
            ]
        },
        {
            "cell_type": "code",
            "execution_count": 5,
            "metadata": {},
            "outputs": [],
            "source": [
                "# the width and depth of the columns\n",
                "width = depth = .8\n",
                "\n",
                "# xrange = num rows, yrange = num cols\n",
                "xrange = np.arange(df_plot.shape[0])\n",
                "yrange = np.arange(df_plot.shape[1])\n",
                "\n",
                "# return matrices from the two vectors\n",
                "xpos, ypos = np.meshgrid(xrange, yrange)\n",
                "xpos = xpos.flatten()\n",
                "ypos = ypos.flatten()\n",
                "\n",
                "## where the columns start (we're saying start at zero)\n",
                "zpos = np.zeros(df_plot.shape).flatten()\n",
                "\n",
                "## The height of the columns\n",
                "dz = list(df_plot['US Baseload Electricity 22']) + list(df_plot['US Baseload Electricity 23'])\\\n",
                "     + list(df_plot['US Baseload Electricity 24'])"
            ]
        },
        {
            "cell_type": "code",
            "execution_count": 6,
            "metadata": {},
            "outputs": [],
            "source": [
                "plt.style.use('seaborn-white')\n",
                "\n",
                "fig3 = plt.figure(figsize=(12, 8))\n",
                "\n",
                "ax4 = fig3.add_subplot(111, projection='3d')\n",
                "\n",
                "# set the ticks in the middle of the bars\n",
                "ax4.set_xticks(xrange + width/2)\n",
                "ax4.set_yticks(yrange + 0.7)\n",
                "\n",
                "#ax4.bar3d(xpos,ypos,zpos,dx,dy,dz)\n",
                "ax4.bar3d(xpos, ypos, zpos, width, depth, dz, shade=True)\n",
                "\n",
                "# put the column / index labels\n",
                "ax4.w_yaxis.set_ticklabels(df_plot.columns)\n",
                "ax4.w_xaxis.set_ticklabels(df_plot.index.format(date_format='%Y'))\n",
                "\n",
                "plt.show()"
            ]
        }
    ],
    "metadata": {
        "kernelspec": {
            "display_name": "Python 3",
            "language": "python",
            "name": "python3"
        },
        "language_info": {
            "codemirror_mode": {
                "name": "ipython",
                "version": 3
            },
            "file_extension": ".py",
            "mimetype": "text/x-python",
            "name": "python",
            "nbconvert_exporter": "python",
            "pygments_lexer": "ipython3",
            "version": "3.7.4"
        }
    },
    "nbformat": 4,
    "nbformat_minor": 5
}