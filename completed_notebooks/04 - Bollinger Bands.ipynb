{
 "cells": [
  {
   "cell_type": "markdown",
   "metadata": {},
   "source": [
    "<img style=\"float: right;\" width=\"120\" src=\"http://neueda.conygre.com/pydata/images/neueda-logo.jpeg\">\n",
    "<br><br><br>\n"
   ]
  },
  {
   "cell_type": "markdown",
   "metadata": {},
   "source": [
    "# Calculate the Bollinger Band for\n",
    "\n",
    "> the month moving average of the Closing price for AAPL"
   ]
  },
  {
   "cell_type": "markdown",
   "metadata": {},
   "source": [
    "## Import the libraries "
   ]
  },
  {
   "cell_type": "code",
   "execution_count": null,
   "metadata": {},
   "outputs": [],
   "source": [
    "import pandas as pd\n",
    "import numpy as np\n",
    "import matplotlib.pyplot as plt\n",
    "import pandas_datareader as pdr\n",
    "\n",
    "%matplotlib inline"
   ]
  },
  {
   "cell_type": "markdown",
   "metadata": {},
   "source": [
    "## Load the data into a DataFrame\n"
   ]
  },
  {
   "cell_type": "code",
   "execution_count": null,
   "metadata": {},
   "outputs": [],
   "source": [
    "# load AAPL data into df_Boll starting at 1/1/2000 from either\n",
    "# a) pdr.get_data_yahoo OR\n",
    "# b) http://neueda.conygre.com/pydata/market_data.xls"
   ]
  },
  {
   "cell_type": "markdown",
   "metadata": {},
   "source": [
    "## Check what has been imported into the DataFrame\n",
    "- Have a quick look at what we have read in\n",
    "- No right or wrong way to do this\n",
    "- Depends on your style, personal preferences, type of data being read in etc\n",
    "- A few examples\n",
    "> `df.tail()`\n",
    "`df.head()`\n",
    "`df.describe()`\n",
    "    \n",
    "**IMPORTANT**<br>\n",
    ">When working with DataFrames that have Dates as an index, make sure the date values are sorted in an ascending manner"
   ]
  },
  {
   "cell_type": "code",
   "execution_count": null,
   "metadata": {},
   "outputs": [],
   "source": [
    "# get percent change (pct_change()) or Close prices, plot as histogram e.g. 50 bins"
   ]
  },
  {
   "cell_type": "markdown",
   "metadata": {},
   "source": [
    "## Calculate the Bollinger Bands for the Adj. Close\n",
    "\n",
    "- **Middle Band** = Monthly moving average <br>\n",
    "- **Upper Band** = Monthly moving average + (Monthly standard deviation of price x 2) \n",
    "- **Lower Band** = Monthly moving average - (Monthly standard deviation of price x 2)"
   ]
  },
  {
   "cell_type": "code",
   "execution_count": null,
   "metadata": {},
   "outputs": [],
   "source": [
    "# 21 days is a good approximation of a single month\n",
    "\n",
    "# get rolling mean and rolling avg of Close for 21 days\n",
    "\n",
    "# calculate upper and lower bands columns as 2 above and 2 below std"
   ]
  },
  {
   "cell_type": "markdown",
   "metadata": {},
   "source": [
    "Insert a column indicating BUY, SELL, HOLD"
   ]
  },
  {
   "cell_type": "code",
   "execution_count": null,
   "metadata": {},
   "outputs": [],
   "source": [
    "#Add a new column all zeros\n",
    "\n",
    "# Set trigger column value to be 1 where close > upper band\n",
    "# Set trigger column value to be -1 where close < lower band\n"
   ]
  },
  {
   "cell_type": "markdown",
   "metadata": {},
   "source": [
    "## Plot the results\n",
    "\n",
    "Use the matplot lib defaults\n",
    "\n",
    "A plot of the entire series of values"
   ]
  },
  {
   "cell_type": "code",
   "execution_count": null,
   "metadata": {},
   "outputs": [],
   "source": [
    "# plot close, upper band, lower band and all data points where trigger != 0\n"
   ]
  },
  {
   "cell_type": "markdown",
   "metadata": {},
   "source": [
    "# Improve the presentation of the chart\n",
    "\n",
    "- 'shading' in the regions between the upper and lower bands\n",
    "- adding a title, a legend and some labels\n",
    "\n",
    "The important parts of the python code are\n",
    "\n",
    "> **style** - fivethirtyeight <br>\n",
    "**figsize** - dimensions of plot in inches. This is an approximation for computer screens but is more accurate for printing plots<br>\n",
    "**fill_between** - shades in areas betrween 2 lines"
   ]
  },
  {
   "cell_type": "code",
   "execution_count": null,
   "metadata": {},
   "outputs": [],
   "source": [
    "# create some variables\n",
    "col = 'Close'\n",
    "start = '2015'\n",
    "end = '2017'\n",
    "\n",
    "# set style, empty figure and axes\n",
    "plt.style.use('fivethirtyeight')\n",
    "fig = plt.figure(figsize=(12,6))\n",
    "ax = fig.add_subplot(111)\n",
    "\n",
    "# Get index values for the X axis for the DataFrame\n",
    "x_axis = df_Boll['2015':'2017'].index.get_level_values(0)\n",
    "\n",
    "# Plot shaded 'win' Day Bollinger Band for Facebook\n",
    "ax.fill_between(x_axis, \n",
    "                df_Boll[start:end]['Upper'], \n",
    "                df_Boll[start:end]['Lower'], \n",
    "                color='grey')\n",
    "\n",
    "ax.plot(x_axis, df_Boll[start:end][col], color='blue', lw=2)\n",
    "ax.plot(x_axis, df_Boll[start:end]['M avg'], color='black', lw=2)\n",
    "\n",
    "# Set Title & Show the Image\n",
    "ax.set_title(str(win) + ' Day Bollinger Band For ' + secname)\n",
    "ax.set_xlabel('Date (Year/Month)')\n",
    "ax.set_ylabel('Price(USD)')\n",
    "\n",
    "plt.show();\n"
   ]
  }
 ],
 "metadata": {
  "kernelspec": {
   "display_name": "Python 3",
   "language": "python",
   "name": "python3"
  },
  "language_info": {
   "codemirror_mode": {
    "name": "ipython",
    "version": 3
   },
   "file_extension": ".py",
   "mimetype": "text/x-python",
   "name": "python",
   "nbconvert_exporter": "python",
   "pygments_lexer": "ipython3",
   "version": "3.7.4"
  }
 },
 "nbformat": 4,
 "nbformat_minor": 4
}
